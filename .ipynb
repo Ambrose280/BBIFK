{
 "cells": [
  {
   "cell_type": "code",
   "execution_count": 3,
   "metadata": {},
   "outputs": [
    {
     "data": {
      "text/plain": [
       "'DESKTOP-N7R3152'"
      ]
     },
     "execution_count": 3,
     "metadata": {},
     "output_type": "execute_result"
    }
   ],
   "source": [
    "import socket\n",
    "socket.gethostname()"
   ]
  },
  {
   "cell_type": "code",
   "execution_count": 4,
   "metadata": {},
   "outputs": [
    {
     "data": {
      "text/plain": [
       "'192.168.1.50'"
      ]
     },
     "execution_count": 4,
     "metadata": {},
     "output_type": "execute_result"
    }
   ],
   "source": [
    "socket.gethostbyname('DESKTOP-N7R3152')"
   ]
  },
  {
   "cell_type": "code",
   "execution_count": 7,
   "metadata": {},
   "outputs": [
    {
     "data": {
      "text/plain": [
       "<Twilio.Api.V2010.MessageInstance account_sid=AC8377f54cdd5a489e9adee3de643a5317 sid=SM9308076da129893342708c6736d41da6>"
      ]
     },
     "execution_count": 7,
     "metadata": {},
     "output_type": "execute_result"
    }
   ],
   "source": [
    "import os\n",
    "from twilio.rest import Client\n",
    "\n",
    "\n",
    "account_sid = 'AC8377f54cdd5a489e9adee3de643a5317'\n",
    "auth_token = 'c7964a459325604a81e0f5e6bdc6eef0'\n",
    "\n",
    "client = Client(account_sid, auth_token)\n",
    "\n",
    "client.messages.create(from_='+17128833459',\n",
    "                       to='+2347042221248',\n",
    "                       body='You just sent an SMS from Python using Twilio!')\n"
   ]
  },
  {
   "cell_type": "code",
   "execution_count": 1,
   "metadata": {},
   "outputs": [
    {
     "ename": "AttributeError",
     "evalue": "'OutgoingCallerIdList' object has no attribute 'create'",
     "output_type": "error",
     "traceback": [
      "\u001b[1;31m---------------------------------------------------------------------------\u001b[0m",
      "\u001b[1;31mAttributeError\u001b[0m                            Traceback (most recent call last)",
      "\u001b[1;32mc:\\Users\\hp\\Downloads\\Ifiok's Stuff\\django-jewelry-shop-main\\.ipynb Cell 4\u001b[0m line \u001b[0;36m1\n\u001b[0;32m     <a href='vscode-notebook-cell:/c%3A/Users/hp/Downloads/Ifiok%27s%20Stuff/django-jewelry-shop-main/.ipynb#W3sZmlsZQ%3D%3D?line=10'>11</a>\u001b[0m phone_number \u001b[39m=\u001b[39m \u001b[39m'\u001b[39m\u001b[39m+2348161736593\u001b[39m\u001b[39m'\u001b[39m  \u001b[39m# Replace with the phone number you want to verify\u001b[39;00m\n\u001b[0;32m     <a href='vscode-notebook-cell:/c%3A/Users/hp/Downloads/Ifiok%27s%20Stuff/django-jewelry-shop-main/.ipynb#W3sZmlsZQ%3D%3D?line=12'>13</a>\u001b[0m \u001b[39m# Initiate caller ID verification\u001b[39;00m\n\u001b[0;32m     <a href='vscode-notebook-cell:/c%3A/Users/hp/Downloads/Ifiok%27s%20Stuff/django-jewelry-shop-main/.ipynb#W3sZmlsZQ%3D%3D?line=13'>14</a>\u001b[0m verification \u001b[39m=\u001b[39m client \\\n\u001b[0;32m     <a href='vscode-notebook-cell:/c%3A/Users/hp/Downloads/Ifiok%27s%20Stuff/django-jewelry-shop-main/.ipynb#W3sZmlsZQ%3D%3D?line=14'>15</a>\u001b[0m     \u001b[39m.\u001b[39;49moutgoing_caller_ids \\\n\u001b[1;32m---> <a href='vscode-notebook-cell:/c%3A/Users/hp/Downloads/Ifiok%27s%20Stuff/django-jewelry-shop-main/.ipynb#W3sZmlsZQ%3D%3D?line=15'>16</a>\u001b[0m     \u001b[39m.\u001b[39;49mcreate(phone_number\u001b[39m=\u001b[39mphone_number)\n",
      "\u001b[1;31mAttributeError\u001b[0m: 'OutgoingCallerIdList' object has no attribute 'create'"
     ]
    }
   ],
   "source": [
    "from twilio.rest import Client\n",
    "\n",
    "# Your Twilio Account SID and Auth Token\n",
    "account_sid = 'AC8377f54cdd5a489e9adee3de643a5317'\n",
    "auth_token = 'c7964a459325604a81e0f5e6bdc6eef0'\n",
    "\n",
    "# Create a Twilio client\n",
    "client = Client(account_sid, auth_token)\n",
    "\n",
    "# The phone number you want to verify\n",
    "phone_number = '+2348161736593'  # Replace with the phone number you want to verify\n",
    "\n",
    "# Initiate caller ID verification\n",
    "verification = client \\\n",
    "    .outgoing_caller_ids \\\n",
    "    .create(phone_number=phone_number)\n"
   ]
  }
 ],
 "metadata": {
  "kernelspec": {
   "display_name": "Python 3",
   "language": "python",
   "name": "python3"
  },
  "language_info": {
   "codemirror_mode": {
    "name": "ipython",
    "version": 3
   },
   "file_extension": ".py",
   "mimetype": "text/x-python",
   "name": "python",
   "nbconvert_exporter": "python",
   "pygments_lexer": "ipython3",
   "version": "3.11.4"
  },
  "orig_nbformat": 4
 },
 "nbformat": 4,
 "nbformat_minor": 2
}
