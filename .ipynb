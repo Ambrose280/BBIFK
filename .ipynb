{
 "cells": [
  {
   "cell_type": "code",
   "execution_count": null,
   "metadata": {},
   "outputs": [],
   "source": [
    "import os\n",
    "from django.utils.text import slugify\n",
    "from tqdm import tqdm\n",
    "from store.models import Product, Category\n",
    "import secrets\n",
    "\n",
    "# Assuming you have the directory path where your images are stored\n",
    "directory_path = '/root/IFKARCH/goodywears/image/'\n",
    "\n",
    "# Get the total number of files for the progress bar\n",
    "total_files = len([file for file in os.listdir(directory_path) if file.lower().endswith(('.png', '.jpg', '.jpeg'))])\n",
    "\n",
    "# Initialize the progress bar\n",
    "with tqdm(total=total_files, desc=\"Creating Products\") as pbar:\n",
    "    # Loop through the files in the directory\n",
    "    for file_name in os.listdir(directory_path):\n",
    "        if file_name.lower().endswith(('.png', '.jpg', '.jpeg')):  # Adjust the file extensions as needed\n",
    "            # Extract file name and convert to lowercase for slug\n",
    "            slug = slugify(os.path.splitext(file_name)[0].lower())\n",
    "\n",
    "            # Generate a random base64 code for SKU\n",
    "            random_base64_code = secrets.token_urlsafe(12)\n",
    "\n",
    "            # Set 'title' to the filename (without extension)\n",
    "            title = os.path.splitext(file_name)[0]\n",
    "\n",
    "            # Create a new product for each image (with product_image)\n",
    "            product = Product.objects.create(\n",
    "                title=title,\n",
    "                slug=slug,\n",
    "                sku=random_base64_code,\n",
    "                short_description=\"A SHOE\",\n",
    "                detail_description=\"A SHOE\",\n",
    "                price=6000,\n",
    "                category=Category.objects.get(id=1),\n",
    "                is_active=True,\n",
    "                is_featured=False\n",
    "            )\n",
    "\n",
    "            # Open and upload the image to product_image field\n",
    "            image_path = os.path.join(directory_path, file_name)\n",
    "            with open(image_path, 'rb') as img_file:\n",
    "                product.product_image.save(file_name, img_file, save=True)\n",
    "\n",
    "            # Update the progress bar\n",
    "            pbar.update(1)\n"
   ]
  },
  {
   "cell_type": "code",
   "execution_count": null,
   "metadata": {},
   "outputs": [],
   "source": [
    "# Download the helper library from https://www.twilio.com/docs/python/install\n",
    "import os\n",
    "from twilio.rest import Client\n",
    "\n",
    "\n",
    "# Find your Account SID and Auth Token at twilio.com/console\n",
    "# and set the environment variables. See http://twil.io/secure\n",
    "account_sid = 'AC8377f54cdd5a489e9adee3de643a5317'\n",
    "auth_token = '4e0d1c268576e6cbab20646a6f75f6cb'\n",
    "client = Client(account_sid, auth_token)\n",
    "\n",
    "message = client.messages \\\n",
    "    .create(\n",
    "         media_url=['https://images.unsplash.com/photo-1545093149-618ce3bcf49d?ixlib=rb-1.2.1&ixid=eyJhcHBfaWQiOjEyMDd9&auto=format&fit=crop&w=668&q=80'],\n",
    "         from_='whatsapp:+17128833459',\n",
    "         to='whatsapp:+2349166059162'\n",
    "     )\n",
    "\n",
    "print(message.sid)\n"
   ]
  },
  {
   "cell_type": "code",
   "execution_count": 4,
   "metadata": {},
   "outputs": [
    {
     "name": "stdout",
     "output_type": "stream",
     "text": [
      "MM430ff0b8632a9c784619caafe6b24883\n"
     ]
    }
   ],
   "source": [
    "# Download the helper library from https://www.twilio.com/docs/python/install\n",
    "import os\n",
    "from twilio.rest import Client\n",
    "\n",
    "\n",
    "# Find your Account SID and Auth Token at twilio.com/console\n",
    "# and set the environment variables. See http://twil.io/secure\n",
    "account_sid = 'AC8377f54cdd5a489e9adee3de643a5317'\n",
    "auth_token = '4e0d1c268576e6cbab20646a6f75f6cb'\n",
    "client = Client(account_sid, auth_token)\n",
    "\n",
    "message = client.messages \\\n",
    "    .create(\n",
    "         from_='whatsapp:+14155238886',\n",
    "         to='whatsapp:+2349166059162'\n",
    "         body = ''\n",
    "     )\n",
    "\n",
    "print(message.sid)\n"
   ]
  }
 ],
 "metadata": {
  "kernelspec": {
   "display_name": "Python 3.10.12 64-bit",
   "language": "python",
   "name": "python3"
  },
  "language_info": {
   "codemirror_mode": {
    "name": "ipython",
    "version": 3
   },
   "file_extension": ".py",
   "mimetype": "text/x-python",
   "name": "python",
   "nbconvert_exporter": "python",
   "pygments_lexer": "ipython3",
   "version": "3.10.12"
  },
  "orig_nbformat": 4,
  "vscode": {
   "interpreter": {
    "hash": "916dbcbb3f70747c44a77c7bcd40155683ae19c65e1c03b4aa3499c5328201f1"
   }
  }
 },
 "nbformat": 4,
 "nbformat_minor": 2
}
