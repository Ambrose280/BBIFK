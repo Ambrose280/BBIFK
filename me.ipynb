{
 "cells": [
  {
   "cell_type": "code",
   "execution_count": null,
   "id": "27acf19f",
   "metadata": {},
   "outputs": [],
   "source": []
  },
  {
   "cell_type": "code",
   "execution_count": 2,
   "id": "7f4af071",
   "metadata": {},
   "outputs": [
    {
     "name": "stdout",
     "output_type": "stream",
     "text": [
      "✅ Django environment loaded.\n"
     ]
    }
   ],
   "source": [
    "# ======================================================\n",
    "# 🪄 STEP 1 — SETUP DJANGO ENVIRONMENT\n",
    "# ======================================================\n",
    "\n",
    "import os\n",
    "import django\n",
    "\n",
    "os.chdir('/home/ifiokambrose/Desktop/myprojects/BBIFK/')\n",
    "\n",
    "# Set Django settings module\n",
    "os.environ.setdefault('DJANGO_SETTINGS_MODULE', 'jewelryshop.settings')\n",
    "\n",
    "# Initialize Django\n",
    "django.setup()\n",
    "\n",
    "print(\"✅ Django environment loaded.\")\n"
   ]
  },
  {
   "cell_type": "code",
   "execution_count": 3,
   "id": "cb14b80e",
   "metadata": {},
   "outputs": [
    {
     "name": "stdout",
     "output_type": "stream",
     "text": [
      "✅ Models imported successfully.\n"
     ]
    }
   ],
   "source": [
    "# ======================================================\n",
    "# 🧱 STEP 2 — IMPORT MODELS AND DEPENDENCIES\n",
    "# ======================================================\n",
    "\n",
    "from store.models import Product, Category\n",
    "from django.utils.text import slugify\n",
    "from django.core.files import File\n",
    "from decimal import Decimal\n",
    "import os\n",
    "\n",
    "print(\"✅ Models imported successfully.\")\n"
   ]
  },
  {
   "cell_type": "code",
   "execution_count": 9,
   "id": "9b1ccf34",
   "metadata": {},
   "outputs": [],
   "source": [
    "# ======================================================\n",
    "# 🚀 STEP 4 — UPLOAD ALL IMAGES IN ONE FOLDER\n",
    "# ======================================================\n",
    "\n",
    "import os\n",
    "from decimal import Decimal\n",
    "from django.core.files import File\n",
    "from django.utils.text import slugify\n",
    "from store.models import Product, Category\n",
    "\n",
    "# Allow Django ORM inside async Jupyter environment\n",
    "os.environ[\"DJANGO_ALLOW_ASYNC_UNSAFE\"] = \"true\"\n",
    "\n",
    "BASE_IMAGE_DIR = '/home/ifiokambrose/Pictures/items/shoes'\n",
    "CATEGORY_NAME = 'Oxfords'\n",
    "\n",
    "def upload_all_products_from_dir():\n",
    "    total_uploaded = 0\n",
    "\n",
    "    # Create or get category\n",
    "    category, _ = Category.objects.get_or_create(title=CATEGORY_NAME)\n",
    "\n",
    "    # List all images in the directory\n",
    "    for filename in os.listdir(BASE_IMAGE_DIR):\n",
    "        if not filename.lower().endswith(('.jpg', '.jpeg', '.png', '.gif', '.webp')):\n",
    "            continue\n",
    "\n",
    "        image_path = os.path.join(BASE_IMAGE_DIR, filename)\n",
    "        title = os.path.splitext(filename)[0].replace('_', ' ').title()\n",
    "        slug = slugify(title)\n",
    "        sku = f\"SKU-{slug[:8]}\"\n",
    "\n",
    "        with open(image_path, 'rb') as f:\n",
    "            product = Product.objects.create(\n",
    "                title=title,\n",
    "                slug=slug,\n",
    "                sku=sku,\n",
    "                short_description=f\"Auto-imported product: {title}\",\n",
    "                detail_description=\"Uploaded automatically from local directory.\",\n",
    "                price=Decimal(\"80900\"),  # set desired price\n",
    "                category=category,\n",
    "                is_active=True,\n",
    "                is_featured=False,\n",
    "            )\n",
    "            product.temp_image.save(filename, File(f), save=True)\n",
    "\n",
    "        total_uploaded += 1\n",
    "        print(f\"✅ Uploaded: {title}\")\n",
    "\n",
    "    print(f\"\\n🎉 Upload complete! Total products added: {total_uploaded}\")\n",
    "\n"
   ]
  },
  {
   "cell_type": "code",
   "execution_count": 10,
   "id": "298604d8",
   "metadata": {},
   "outputs": [
    {
     "name": "stdout",
     "output_type": "stream",
     "text": [
      "✅ Uploaded: Black Oxfords\n",
      "✅ Uploaded: Brown Oxfords\n",
      "✅ Uploaded: Bruno Marc\n",
      "✅ Uploaded: Deep Blue Oxfords\n",
      "\n",
      "🎉 Upload complete! Total products added: 4\n"
     ]
    }
   ],
   "source": [
    "upload_all_products_from_dir()\n"
   ]
  }
 ],
 "metadata": {
  "kernelspec": {
   "display_name": ".venv",
   "language": "python",
   "name": "python3"
  },
  "language_info": {
   "codemirror_mode": {
    "name": "ipython",
    "version": 3
   },
   "file_extension": ".py",
   "mimetype": "text/x-python",
   "name": "python",
   "nbconvert_exporter": "python",
   "pygments_lexer": "ipython3",
   "version": "3.12.3"
  }
 },
 "nbformat": 4,
 "nbformat_minor": 5
}
